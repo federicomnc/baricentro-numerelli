{
 "cells": [
  {
   "cell_type": "code",
   "execution_count": 1,
   "metadata": {},
   "outputs": [
    {
     "name": "stdout",
     "output_type": "stream",
     "text": [
      "Libraries imported.\n"
     ]
    }
   ],
   "source": [
    "import types\n",
    "import pandas as pd\n",
    "\n",
    "import numpy as np # library to handle data in a vectorized manner\n",
    "\n",
    "import json # library to handle JSON files\n",
    "\n",
    "#!conda install -c conda-forge geopy --yes # uncomment this line if you haven't completed the Foursquare API lab\n",
    "from geopy.geocoders import Nominatim # convert an address into latitude and longitude values\n",
    "\n",
    "import requests # library to handle requests\n",
    "from pandas.io.json import json_normalize # tranform JSON file into a pandas dataframe\n",
    "\n",
    "# Matplotlib and associated plotting modules\n",
    "import matplotlib.cm as cm\n",
    "import matplotlib.colors as colors\n",
    "\n",
    "# import k-means from clustering stage\n",
    "from sklearn.cluster import KMeans\n",
    "\n",
    "#!conda install -c conda-forge folium=0.5.0 --yes # uncomment this line if you haven't completed the Foursquare API lab\n",
    "import folium # map rendering library\n",
    "\n",
    "from geopy.distance import distance\n",
    "\n",
    "print('Libraries imported.')"
   ]
  },
  {
   "cell_type": "code",
   "execution_count": 2,
   "metadata": {},
   "outputs": [],
   "source": [
    "# reads file containing adresses of numerelli\n",
    "indirizzi=pd.read_excel('indirizzi.xlsx')"
   ]
  },
  {
   "cell_type": "code",
   "execution_count": 3,
   "metadata": {},
   "outputs": [],
   "source": [
    "geolocator = Nominatim(user_agent=\"to_explorer\")"
   ]
  },
  {
   "cell_type": "code",
   "execution_count": 4,
   "metadata": {},
   "outputs": [],
   "source": [
    "# adds latitude and longitude info to dataframe\n",
    "for i in range(len(indirizzi)):\n",
    "    indirizzo = indirizzi.loc[i]['Indirizzo']\n",
    "    \n",
    "    location = geolocator.geocode(indirizzo)\n",
    "    latitude = location.latitude\n",
    "    longitude = location.longitude\n",
    "    \n",
    "    indirizzi.loc[i, 'lat'] = latitude\n",
    "    indirizzi.loc[i, 'long'] = longitude"
   ]
  },
  {
   "cell_type": "code",
   "execution_count": 5,
   "metadata": {},
   "outputs": [
    {
     "data": {
      "text/html": [
       "<div>\n",
       "<style scoped>\n",
       "    .dataframe tbody tr th:only-of-type {\n",
       "        vertical-align: middle;\n",
       "    }\n",
       "\n",
       "    .dataframe tbody tr th {\n",
       "        vertical-align: top;\n",
       "    }\n",
       "\n",
       "    .dataframe thead th {\n",
       "        text-align: right;\n",
       "    }\n",
       "</style>\n",
       "<table border=\"1\" class=\"dataframe\">\n",
       "  <thead>\n",
       "    <tr style=\"text-align: right;\">\n",
       "      <th></th>\n",
       "      <th>Nome</th>\n",
       "      <th>Indirizzo</th>\n",
       "      <th>lat</th>\n",
       "      <th>long</th>\n",
       "    </tr>\n",
       "  </thead>\n",
       "  <tbody>\n",
       "    <tr>\n",
       "      <th>0</th>\n",
       "      <td>Piero</td>\n",
       "      <td>via dei Brusati, Roma</td>\n",
       "      <td>41.880854</td>\n",
       "      <td>12.415655</td>\n",
       "    </tr>\n",
       "    <tr>\n",
       "      <th>1</th>\n",
       "      <td>Federico</td>\n",
       "      <td>via Lorenzo Rocci, Roma</td>\n",
       "      <td>41.863275</td>\n",
       "      <td>12.439772</td>\n",
       "    </tr>\n",
       "    <tr>\n",
       "      <th>2</th>\n",
       "      <td>FabrizioC</td>\n",
       "      <td>via Jean Paul Sartre, Roma</td>\n",
       "      <td>41.837330</td>\n",
       "      <td>12.630502</td>\n",
       "    </tr>\n",
       "    <tr>\n",
       "      <th>3</th>\n",
       "      <td>FabrizioG</td>\n",
       "      <td>Largo Sri Lanka, Roma</td>\n",
       "      <td>41.825432</td>\n",
       "      <td>12.471934</td>\n",
       "    </tr>\n",
       "    <tr>\n",
       "      <th>4</th>\n",
       "      <td>Gigi</td>\n",
       "      <td>via Cena, Fiumicino</td>\n",
       "      <td>41.775807</td>\n",
       "      <td>12.226396</td>\n",
       "    </tr>\n",
       "    <tr>\n",
       "      <th>5</th>\n",
       "      <td>Sirio</td>\n",
       "      <td>Via Caterina Troiani, Roma</td>\n",
       "      <td>41.813189</td>\n",
       "      <td>12.452846</td>\n",
       "    </tr>\n",
       "    <tr>\n",
       "      <th>6</th>\n",
       "      <td>Rocco</td>\n",
       "      <td>via Valcamonica, Roma</td>\n",
       "      <td>41.932775</td>\n",
       "      <td>12.525885</td>\n",
       "    </tr>\n",
       "    <tr>\n",
       "      <th>7</th>\n",
       "      <td>Sergio</td>\n",
       "      <td>via Bepi Romagnoni, Roma</td>\n",
       "      <td>41.775748</td>\n",
       "      <td>12.343886</td>\n",
       "    </tr>\n",
       "  </tbody>\n",
       "</table>\n",
       "</div>"
      ],
      "text/plain": [
       "        Nome                   Indirizzo        lat       long\n",
       "0      Piero       via dei Brusati, Roma  41.880854  12.415655\n",
       "1   Federico     via Lorenzo Rocci, Roma  41.863275  12.439772\n",
       "2  FabrizioC  via Jean Paul Sartre, Roma  41.837330  12.630502\n",
       "3  FabrizioG       Largo Sri Lanka, Roma  41.825432  12.471934\n",
       "4       Gigi         via Cena, Fiumicino  41.775807  12.226396\n",
       "5      Sirio  Via Caterina Troiani, Roma  41.813189  12.452846\n",
       "6      Rocco       via Valcamonica, Roma  41.932775  12.525885\n",
       "7     Sergio    via Bepi Romagnoni, Roma  41.775748  12.343886"
      ]
     },
     "execution_count": 5,
     "metadata": {},
     "output_type": "execute_result"
    }
   ],
   "source": [
    "indirizzi"
   ]
  },
  {
   "cell_type": "code",
   "execution_count": 6,
   "metadata": {},
   "outputs": [],
   "source": [
    "# with k-means clusters indirizzi and gets the center for the cluster\n",
    "lat_long=indirizzi[['lat','long']]\n",
    "id_n=1\n",
    "kmeans = KMeans(n_clusters=id_n, random_state=0).fit(lat_long)\n",
    "id_label_uffici=kmeans.labels_\n",
    "center = np.array(kmeans.cluster_centers_)"
   ]
  },
  {
   "cell_type": "code",
   "execution_count": 7,
   "metadata": {
    "scrolled": false
   },
   "outputs": [
    {
     "data": {
      "text/html": [
       "<div style=\"width:100%;\"><div style=\"position:relative;width:100%;height:0;padding-bottom:60%;\"><iframe src=\"about:blank\" style=\"position:absolute;width:100%;height:100%;left:0;top:0;border:none !important;\" data-html=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 onload=\"this.contentDocument.open();this.contentDocument.write(atob(this.getAttribute('data-html')));this.contentDocument.close();\" allowfullscreen webkitallowfullscreen mozallowfullscreen></iframe></div></div>"
      ],
      "text/plain": [
       "<folium.folium.Map at 0x7fcdc415ada0>"
      ]
     },
     "execution_count": 7,
     "metadata": {},
     "output_type": "execute_result"
    }
   ],
   "source": [
    "# plots numerelli position and the center of the cluster\n",
    "address = 'Roma'\n",
    "\n",
    "geolocator = Nominatim(user_agent=\"to_explorer\")\n",
    "location = geolocator.geocode(address)\n",
    "latitude = location.latitude\n",
    "longitude = location.longitude\n",
    "\n",
    "# create map of Roma using latitude and longitude values\n",
    "map_Roma = folium.Map(location=[latitude, longitude], zoom_start=11)\n",
    "\n",
    "label='Roma'\n",
    "#maxdensita=Municipi['Densita'].max()\n",
    "\n",
    "for lat, lng, name, in zip(indirizzi['lat'], \n",
    "                                   indirizzi['long'], \n",
    "                                   indirizzi['Nome']):\n",
    "    label = '{}'.format(name)\n",
    "    label = folium.Popup(label, parse_html=True)\n",
    "    folium.CircleMarker(\n",
    "        [lat, lng],\n",
    "        radius=6,\n",
    "        popup=label,\n",
    "        color='green',\n",
    "        fill=True,\n",
    "        fill_color='#3186cc',\n",
    "        fill_opacity=0.7,\n",
    "        parse_html=False).add_to(map_Roma)  \n",
    "\n",
    "for lat, long in center:\n",
    "    label = 'Baricentro Numerelli {}'.format(center)\n",
    "    label = folium.Popup(label, parse_html=True)\n",
    "    folium.Marker(\n",
    "        location=[lat, long],\n",
    "        #icon=folium.Icon(color=colors[center]),\n",
    "        #icon=folium.Icon(color='red'),\n",
    "        popup=label).add_to(map_Roma)\n",
    "    \n",
    "    \n",
    "map_Roma"
   ]
  },
  {
   "cell_type": "code",
   "execution_count": null,
   "metadata": {},
   "outputs": [],
   "source": []
  }
 ],
 "metadata": {
  "kernelspec": {
   "display_name": "Python 3",
   "language": "python",
   "name": "python3"
  },
  "language_info": {
   "codemirror_mode": {
    "name": "ipython",
    "version": 3
   },
   "file_extension": ".py",
   "mimetype": "text/x-python",
   "name": "python",
   "nbconvert_exporter": "python",
   "pygments_lexer": "ipython3",
   "version": "3.7.3"
  }
 },
 "nbformat": 4,
 "nbformat_minor": 2
}
