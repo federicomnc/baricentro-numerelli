{
 "cells": [
  {
   "cell_type": "code",
   "execution_count": 1,
   "metadata": {},
   "outputs": [
    {
     "name": "stdout",
     "output_type": "stream",
     "text": [
      "Libraries imported.\n"
     ]
    }
   ],
   "source": [
    "import types\n",
    "import pandas as pd\n",
    "\n",
    "import numpy as np # library to handle data in a vectorized manner\n",
    "\n",
    "import json # library to handle JSON files\n",
    "\n",
    "#!conda install -c conda-forge geopy --yes # uncomment this line if you haven't completed the Foursquare API lab\n",
    "from geopy.geocoders import Nominatim # convert an address into latitude and longitude values\n",
    "\n",
    "import requests # library to handle requests\n",
    "from pandas.io.json import json_normalize # tranform JSON file into a pandas dataframe\n",
    "\n",
    "# Matplotlib and associated plotting modules\n",
    "import matplotlib.cm as cm\n",
    "import matplotlib.colors as colors\n",
    "\n",
    "# import k-means from clustering stage\n",
    "from sklearn.cluster import KMeans\n",
    "\n",
    "#!conda install -c conda-forge folium=0.5.0 --yes # uncomment this line if you haven't completed the Foursquare API lab\n",
    "import folium # map rendering library\n",
    "\n",
    "from geopy.distance import distance\n",
    "\n",
    "print('Libraries imported.')"
   ]
  },
  {
   "cell_type": "code",
   "execution_count": 2,
   "metadata": {},
   "outputs": [],
   "source": [
    "# reads file containing adresses of numerelli\n",
    "indirizzi=pd.read_excel('indirizzi.xlsx')"
   ]
  },
  {
   "cell_type": "code",
   "execution_count": 3,
   "metadata": {},
   "outputs": [],
   "source": [
    "geolocator = Nominatim(user_agent=\"to_explorer\")"
   ]
  },
  {
   "cell_type": "code",
   "execution_count": 4,
   "metadata": {},
   "outputs": [],
   "source": [
    "# adds latitude and longitude info to dataframe\n",
    "for i in range(len(indirizzi)):\n",
    "    indirizzo = indirizzi.loc[i]['Indirizzo']\n",
    "    \n",
    "    location = geolocator.geocode(indirizzo)\n",
    "    latitude = location.latitude\n",
    "    longitude = location.longitude\n",
    "    \n",
    "    indirizzi.loc[i, 'lat'] = latitude\n",
    "    indirizzi.loc[i, 'long'] = longitude"
   ]
  },
  {
   "cell_type": "code",
   "execution_count": 5,
   "metadata": {},
   "outputs": [
    {
     "data": {
      "text/html": [
       "<div>\n",
       "<style scoped>\n",
       "    .dataframe tbody tr th:only-of-type {\n",
       "        vertical-align: middle;\n",
       "    }\n",
       "\n",
       "    .dataframe tbody tr th {\n",
       "        vertical-align: top;\n",
       "    }\n",
       "\n",
       "    .dataframe thead th {\n",
       "        text-align: right;\n",
       "    }\n",
       "</style>\n",
       "<table border=\"1\" class=\"dataframe\">\n",
       "  <thead>\n",
       "    <tr style=\"text-align: right;\">\n",
       "      <th></th>\n",
       "      <th>Nome</th>\n",
       "      <th>Indirizzo</th>\n",
       "      <th>lat</th>\n",
       "      <th>long</th>\n",
       "    </tr>\n",
       "  </thead>\n",
       "  <tbody>\n",
       "    <tr>\n",
       "      <th>0</th>\n",
       "      <td>Piero</td>\n",
       "      <td>via dei Brusati, Roma</td>\n",
       "      <td>41.880854</td>\n",
       "      <td>12.415655</td>\n",
       "    </tr>\n",
       "    <tr>\n",
       "      <th>1</th>\n",
       "      <td>Federico</td>\n",
       "      <td>via Lorenzo Rocci, Roma</td>\n",
       "      <td>41.863275</td>\n",
       "      <td>12.439772</td>\n",
       "    </tr>\n",
       "    <tr>\n",
       "      <th>2</th>\n",
       "      <td>FabrizioC</td>\n",
       "      <td>via Jean Paul Sartre, Roma</td>\n",
       "      <td>41.837330</td>\n",
       "      <td>12.630502</td>\n",
       "    </tr>\n",
       "    <tr>\n",
       "      <th>3</th>\n",
       "      <td>FabrizioG</td>\n",
       "      <td>Largo Sri Lanka, Roma</td>\n",
       "      <td>41.825432</td>\n",
       "      <td>12.471934</td>\n",
       "    </tr>\n",
       "    <tr>\n",
       "      <th>4</th>\n",
       "      <td>Gigi</td>\n",
       "      <td>via Cena, Fiumicino</td>\n",
       "      <td>41.775807</td>\n",
       "      <td>12.226396</td>\n",
       "    </tr>\n",
       "    <tr>\n",
       "      <th>5</th>\n",
       "      <td>Sirio</td>\n",
       "      <td>Via Caterina Troiani, Roma</td>\n",
       "      <td>41.813189</td>\n",
       "      <td>12.452846</td>\n",
       "    </tr>\n",
       "    <tr>\n",
       "      <th>6</th>\n",
       "      <td>Rocco</td>\n",
       "      <td>via Valcamonica, Roma</td>\n",
       "      <td>41.932775</td>\n",
       "      <td>12.525885</td>\n",
       "    </tr>\n",
       "  </tbody>\n",
       "</table>\n",
       "</div>"
      ],
      "text/plain": [
       "        Nome                   Indirizzo        lat       long\n",
       "0      Piero       via dei Brusati, Roma  41.880854  12.415655\n",
       "1   Federico     via Lorenzo Rocci, Roma  41.863275  12.439772\n",
       "2  FabrizioC  via Jean Paul Sartre, Roma  41.837330  12.630502\n",
       "3  FabrizioG       Largo Sri Lanka, Roma  41.825432  12.471934\n",
       "4       Gigi         via Cena, Fiumicino  41.775807  12.226396\n",
       "5      Sirio  Via Caterina Troiani, Roma  41.813189  12.452846\n",
       "6      Rocco       via Valcamonica, Roma  41.932775  12.525885"
      ]
     },
     "execution_count": 5,
     "metadata": {},
     "output_type": "execute_result"
    }
   ],
   "source": [
    "indirizzi"
   ]
  },
  {
   "cell_type": "code",
   "execution_count": 6,
   "metadata": {},
   "outputs": [],
   "source": [
    "# with k-means clusters indirizzi and gets the center for the cluster\n",
    "lat_long=indirizzi[['lat','long']]\n",
    "id_n=1\n",
    "kmeans = KMeans(n_clusters=id_n, random_state=0).fit(lat_long)\n",
    "id_label_uffici=kmeans.labels_\n",
    "center = np.array(kmeans.cluster_centers_)"
   ]
  },
  {
   "cell_type": "code",
   "execution_count": 7,
   "metadata": {
    "scrolled": false
   },
   "outputs": [
    {
     "data": {
      "text/html": [
       "<div style=\"width:100%;\"><div style=\"position:relative;width:100%;height:0;padding-bottom:60%;\"><iframe src=\"about:blank\" style=\"position:absolute;width:100%;height:100%;left:0;top:0;border:none !important;\" data-html=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 onload=\"this.contentDocument.open();this.contentDocument.write(atob(this.getAttribute('data-html')));this.contentDocument.close();\" allowfullscreen webkitallowfullscreen mozallowfullscreen></iframe></div></div>"
      ],
      "text/plain": [
       "<folium.folium.Map at 0x7ff995158dd8>"
      ]
     },
     "execution_count": 7,
     "metadata": {},
     "output_type": "execute_result"
    }
   ],
   "source": [
    "#plots numerelli position and the center of the cluster\n",
    "address = 'Roma'\n",
    "\n",
    "geolocator = Nominatim(user_agent=\"to_explorer\")\n",
    "location = geolocator.geocode(address)\n",
    "latitude = location.latitude\n",
    "longitude = location.longitude\n",
    "\n",
    "# create map of Roma using latitude and longitude values\n",
    "map_Roma = folium.Map(location=[latitude, longitude], zoom_start=11)\n",
    "\n",
    "label='Roma'\n",
    "#maxdensita=Municipi['Densita'].max()\n",
    "\n",
    "for lat, lng, name, in zip(indirizzi['lat'], \n",
    "                                   indirizzi['long'], \n",
    "                                   indirizzi['Nome']):\n",
    "    label = '{}'.format(name)\n",
    "    label = folium.Popup(label, parse_html=True)\n",
    "    folium.CircleMarker(\n",
    "        [lat, lng],\n",
    "        radius=6,\n",
    "        popup=label,\n",
    "        color='green',\n",
    "        fill=True,\n",
    "        fill_color='#3186cc',\n",
    "        fill_opacity=0.7,\n",
    "        parse_html=False).add_to(map_Roma)  \n",
    "\n",
    "for lat, long in center:\n",
    "    label = 'Baricentro Numerelli {}'.format(center)\n",
    "    label = folium.Popup(label, parse_html=True)\n",
    "    folium.Marker(\n",
    "        location=[lat, lng],\n",
    "        #icon=folium.Icon(color=colors[center]),\n",
    "        #icon=folium.Icon(color='red'),\n",
    "        popup=label).add_to(map_Roma)\n",
    "    \n",
    "    \n",
    "map_Roma"
   ]
  },
  {
   "cell_type": "code",
   "execution_count": null,
   "metadata": {},
   "outputs": [],
   "source": []
  }
 ],
 "metadata": {
  "kernelspec": {
   "display_name": "Python 3",
   "language": "python",
   "name": "python3"
  },
  "language_info": {
   "codemirror_mode": {
    "name": "ipython",
    "version": 3
   },
   "file_extension": ".py",
   "mimetype": "text/x-python",
   "name": "python",
   "nbconvert_exporter": "python",
   "pygments_lexer": "ipython3",
   "version": "3.7.3"
  }
 },
 "nbformat": 4,
 "nbformat_minor": 2
}
